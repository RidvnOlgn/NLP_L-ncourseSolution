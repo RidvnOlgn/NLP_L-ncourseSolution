{
 "cells": [
  {
   "cell_type": "code",
   "execution_count": 1,
   "metadata": {},
   "outputs": [],
   "source": [
    "import pandas as pd\n",
    "import numpy as np"
   ]
  },
  {
   "cell_type": "code",
   "execution_count": 2,
   "metadata": {},
   "outputs": [
    {
     "data": {
      "text/html": [
       "<div>\n",
       "<style scoped>\n",
       "    .dataframe tbody tr th:only-of-type {\n",
       "        vertical-align: middle;\n",
       "    }\n",
       "\n",
       "    .dataframe tbody tr th {\n",
       "        vertical-align: top;\n",
       "    }\n",
       "\n",
       "    .dataframe thead th {\n",
       "        text-align: right;\n",
       "    }\n",
       "</style>\n",
       "<table border=\"1\" class=\"dataframe\">\n",
       "  <thead>\n",
       "    <tr style=\"text-align: right;\">\n",
       "      <th></th>\n",
       "      <th>0</th>\n",
       "      <th>1</th>\n",
       "    </tr>\n",
       "  </thead>\n",
       "  <tbody>\n",
       "    <tr>\n",
       "      <th>0</th>\n",
       "      <td>Your products are excellent. I really love the...</td>\n",
       "      <td>delivery to my location in Los Angeles was a ...</td>\n",
       "    </tr>\n",
       "    <tr>\n",
       "      <th>1</th>\n",
       "      <td>The customer service team in New York was help...</td>\n",
       "      <td>NaN</td>\n",
       "    </tr>\n",
       "    <tr>\n",
       "      <th>2</th>\n",
       "      <td>The new features in the latest release are fan...</td>\n",
       "      <td>NaN</td>\n",
       "    </tr>\n",
       "    <tr>\n",
       "      <th>3</th>\n",
       "      <td>The product didn't meet my expectations</td>\n",
       "      <td>and I'm disappointed. I hope you can address ...</td>\n",
       "    </tr>\n",
       "    <tr>\n",
       "      <th>4</th>\n",
       "      <td>Your products are not good. I really don't lik...</td>\n",
       "      <td>delivery to my location in Los Angeles was a ...</td>\n",
       "    </tr>\n",
       "  </tbody>\n",
       "</table>\n",
       "</div>"
      ],
      "text/plain": [
       "                                                   0  \\\n",
       "0  Your products are excellent. I really love the...   \n",
       "1  The customer service team in New York was help...   \n",
       "2  The new features in the latest release are fan...   \n",
       "3            The product didn't meet my expectations   \n",
       "4  Your products are not good. I really don't lik...   \n",
       "\n",
       "                                                   1  \n",
       "0   delivery to my location in Los Angeles was a ...  \n",
       "1                                                NaN  \n",
       "2                                                NaN  \n",
       "3   and I'm disappointed. I hope you can address ...  \n",
       "4   delivery to my location in Los Angeles was a ...  "
      ]
     },
     "execution_count": 2,
     "metadata": {},
     "output_type": "execute_result"
    }
   ],
   "source": [
    "# Load CSV file into a DataFrame without header\n",
    "df = pd.read_csv(\"ch4_feedback_data.csv\", header=None)\n",
    "df.head()"
   ]
  },
  {
   "cell_type": "code",
   "execution_count": 3,
   "metadata": {},
   "outputs": [
    {
     "name": "stderr",
     "output_type": "stream",
     "text": [
      "c:\\Users\\Ridvan\\anaconda3\\envs\\cudaPytorch\\Lib\\site-packages\\tqdm\\auto.py:21: TqdmWarning: IProgress not found. Please update jupyter and ipywidgets. See https://ipywidgets.readthedocs.io/en/stable/user_install.html\n",
      "  from .autonotebook import tqdm as notebook_tqdm\n"
     ]
    }
   ],
   "source": [
    "# Load Pre-Trained DistilBERT model and Tokenizer\n",
    "from transformers import pipeline, DistilBertModel, DistilBertTokenizer\n",
    "\n",
    "# Load pre-trained DistilBERT model and tokenizer\n",
    "#model = DistilBertModel.from_pretrained('distilbert-base-uncased')\n",
    "#tokenizer = DistilBertTokenizer.from_pretrained('distilbert-base-uncased')"
   ]
  },
  {
   "cell_type": "code",
   "execution_count": 4,
   "metadata": {},
   "outputs": [
    {
     "name": "stderr",
     "output_type": "stream",
     "text": [
      "Device set to use cuda:0\n"
     ]
    },
    {
     "name": "stdout",
     "output_type": "stream",
     "text": [
      "Text: Your products are excellent. I really love the quality! However\n",
      "Sentiment Score: 0.5744261145591736\n",
      "Sentiment Label: 5 stars\n",
      "\n",
      "Text: The customer service team in New York was helpful in resolving my issue. I appreciate the assistance. brian@email.com\n",
      "Sentiment Score: 0.5543172359466553\n",
      "Sentiment Label: 4 stars\n",
      "\n",
      "Text: The new features in the latest release are fantastic! They have greatly improved the user experience in San Francisco.\n",
      "Sentiment Score: 0.8357023596763611\n",
      "Sentiment Label: 5 stars\n",
      "\n",
      "Text: The product didn't meet my expectations\n",
      "Sentiment Score: 0.4780277609825134\n",
      "Sentiment Label: 2 stars\n",
      "\n",
      "Text: Your products are not good. I really don't like the quality! However\n",
      "Sentiment Score: 0.513806164264679\n",
      "Sentiment Label: 2 stars\n",
      "\n",
      "Text: The customer service team in San Francisco was not helpful in resolving my issue. But\n",
      "Sentiment Score: 0.5047703385353088\n",
      "Sentiment Label: 3 stars\n",
      "\n",
      "Text: The new features in the latest release are not fantastic! They have not greatly improved the user experience in San Francisco.\n",
      "Sentiment Score: 0.5981984734535217\n",
      "Sentiment Label: 3 stars\n",
      "\n",
      "Text: The product didn't meet my expectations\n",
      "Sentiment Score: 0.4780277609825134\n",
      "Sentiment Label: 2 stars\n",
      "\n"
     ]
    }
   ],
   "source": [
    "# Load DistilBERT sentiment analysis pipeline\n",
    "sentiment_analysis_bert = pipeline(\"sentiment-analysis\", model=\"nlptown/bert-base-multilingual-uncased-sentiment\")\n",
    "\n",
    "\n",
    "# Iterate over the rows and perform sentiment analysis with DistilBERT\n",
    "sentiment_results_bert = []\n",
    "for index, row in df.iterrows():\n",
    "    text = row[0]  # Access the first (and only) column in each row\n",
    "    bert_result = sentiment_analysis_bert(text)[0]\n",
    "    sentiment_label_bert = bert_result['label']\n",
    "    sentiment_score_bert = bert_result['score']\n",
    "    sentiment_results_bert.append({\"Text\": text, \"Sentiment Score\": sentiment_score_bert, \"Sentiment Label\": sentiment_label_bert})\n",
    "\n",
    "\n",
    "# Iterate over the sentiment results and print each entry\n",
    "for result in sentiment_results_bert:\n",
    "    print(f\"Text: {result['Text']}\")\n",
    "    print(f\"Sentiment Score: {result['Sentiment Score']}\")\n",
    "    print(f\"Sentiment Label: {result['Sentiment Label']}\")\n",
    "    print()  # Add a blank line for readability\n",
    "\n",
    "# Convert DistilBERT sentiment results to DataFrame\n",
    "sentiment_df_bert = pd.DataFrame(sentiment_results_bert)\n",
    "\n",
    "# Save DistilBERT sentiment results to a new CSV file\n",
    "sentiment_df_bert.to_csv(\"sentiment_results_bert.csv\", index=False)"
   ]
  },
  {
   "cell_type": "code",
   "execution_count": null,
   "metadata": {},
   "outputs": [],
   "source": []
  }
 ],
 "metadata": {
  "kernelspec": {
   "display_name": "cudaPytorch",
   "language": "python",
   "name": "python3"
  },
  "language_info": {
   "codemirror_mode": {
    "name": "ipython",
    "version": 3
   },
   "file_extension": ".py",
   "mimetype": "text/x-python",
   "name": "python",
   "nbconvert_exporter": "python",
   "pygments_lexer": "ipython3",
   "version": "3.11.5"
  }
 },
 "nbformat": 4,
 "nbformat_minor": 2
}
