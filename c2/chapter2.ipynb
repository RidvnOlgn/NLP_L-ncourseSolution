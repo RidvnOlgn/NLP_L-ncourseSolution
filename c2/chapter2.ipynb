{
 "cells": [
  {
   "cell_type": "code",
   "execution_count": 2,
   "metadata": {},
   "outputs": [],
   "source": [
    "#Import pandas as pd\n",
    "import pandas as pd\n",
    "\n",
    "#Import spacy\n",
    "import spacy\n",
    "\n",
    "#Load the English model\n",
    "nlp = spacy.load(\"en_core_web_sm\") #Here, spacy.load, loads the English model and assigns it to variable nlp\n",
    "\n",
    "#When you execute nlp = spacy.load('en'), spaCy downloads and loads the pre-trained English language model\n",
    "#into memory and assigns it to the variable nlp.\n",
    "#This pre-trained model contains information about word vectors, part-of-speech tags, syntactic dependencies, and other linguistic features necessary for various NLP tasks."
   ]
  },
  {
   "cell_type": "code",
   "execution_count": 4,
   "metadata": {},
   "outputs": [
    {
     "name": "stdout",
     "output_type": "stream",
     "text": [
      "Tokenization:\n",
      "A\n",
      "customer\n",
      "in\n",
      "New\n",
      "York\n",
      "City\n",
      "wants\n",
      "to\n",
      "give\n",
      "a\n",
      "review\n",
      ".\n"
     ]
    }
   ],
   "source": [
    "# Example text\n",
    "text = \"A customer in New York City wants to give a review.\"\n",
    "\n",
    "# Process the text using spaCy\n",
    "doc = nlp(text) #Recall that the Doc object represents the our sentence.\n",
    "\n",
    "\n",
    "# Tokenization\n",
    "print(\"Tokenization:\")\n",
    "for token in doc:\n",
    "    # Iterate through each token in the processed text and print the token text\n",
    "    print(token.text)"
   ]
  },
  {
   "cell_type": "code",
   "execution_count": 5,
   "metadata": {},
   "outputs": [
    {
     "name": "stdout",
     "output_type": "stream",
     "text": [
      "Filtered Tokens (without stop words):\n",
      "['customer', 'New', 'York', 'City', 'wants', 'review', '.']\n"
     ]
    }
   ],
   "source": [
    "# Filter out stop words\n",
    "print(\"Filtered Tokens (without stop words):\")\n",
    "filtered_tokens = [token.text for token in doc if not token.is_stop]\n",
    "# Create a list of tokens excluding stop words using list comprehension\n",
    "print(filtered_tokens)"
   ]
  },
  {
   "cell_type": "code",
   "execution_count": 6,
   "metadata": {},
   "outputs": [
    {
     "name": "stdout",
     "output_type": "stream",
     "text": [
      "Part-of-Speech Tagging (POS):\n",
      "A DET\n",
      "customer NOUN\n",
      "in ADP\n",
      "New PROPN\n",
      "York PROPN\n",
      "City PROPN\n",
      "wants VERB\n",
      "to PART\n",
      "give VERB\n",
      "a DET\n",
      "review NOUN\n",
      ". PUNCT\n"
     ]
    }
   ],
   "source": [
    "# Part-of-Speech Tagging (POS)\n",
    "print(\"Part-of-Speech Tagging (POS):\")\n",
    "for token in doc:\n",
    "    # Iterate through each token and print the token text and its POS tag\n",
    "    print(token.text, token.pos_)"
   ]
  },
  {
   "cell_type": "code",
   "execution_count": 7,
   "metadata": {},
   "outputs": [
    {
     "name": "stdout",
     "output_type": "stream",
     "text": [
      "Named Entity Recognition (NER):\n",
      "New York City GPE\n"
     ]
    }
   ],
   "source": [
    "print(\"Named Entity Recognition (NER):\")\n",
    "for ent in doc.ents:\n",
    "    # Iterate through each named entity in the processed text and print its text and label\n",
    "    print(ent.text, ent.label_)"
   ]
  },
  {
   "cell_type": "code",
   "execution_count": 8,
   "metadata": {},
   "outputs": [
    {
     "name": "stdout",
     "output_type": "stream",
     "text": [
      "Lemmatization:\n",
      "['a', 'customer', 'in', 'New', 'York', 'City', 'want', 'to', 'give', 'a', 'review']\n"
     ]
    }
   ],
   "source": [
    "# Lemmatization\n",
    "print(\"Lemmatization:\")\n",
    "lemmatized_tokens = [token.lemma_ for token in doc if not token.is_punct]\n",
    "# Create a list of lemmatized tokens excluding punctuation using list comprehension\n",
    "print(lemmatized_tokens)"
   ]
  },
  {
   "cell_type": "code",
   "execution_count": 10,
   "metadata": {},
   "outputs": [],
   "source": [
    "\n",
    "file_path = 'sentiment_examples.txt'\n",
    "with open(file_path, 'r', encoding='utf-8') as file:\n",
    "    sentiment_texts = file.readlines()"
   ]
  },
  {
   "cell_type": "code",
   "execution_count": 12,
   "metadata": {},
   "outputs": [],
   "source": [
    "#Initialize empty lists to store the results\n",
    "token_lists = []  # List to store tokens for each sentiment example\n",
    "filtered_token_lists = []  # List to store filtered tokens (after stop word removal) for each sentiment example\n",
    "pos_tag_lists = []  # List to store POS tags for each sentiment example\n",
    "ner_lists = []  # List to store named entities for each sentiment example\n",
    "\n",
    "# Process each sentiment example using spaCy and store the results\n",
    "for sentiment_text in sentiment_texts:\n",
    "    doc = nlp(sentiment_text.strip())  # Strip any leading/trailing whitespace\n",
    "    #The .strip() method is used to clean up the sentiment_text\n",
    "    #before passing it to the spaCy nlp pipeline for processing.\n",
    "    #This ensures that there are no unwanted spaces or newline characters\n",
    "    #that could affect the processing of the text by spaCy."
   ]
  },
  {
   "cell_type": "code",
   "execution_count": 16,
   "metadata": {},
   "outputs": [
    {
     "name": "stdout",
     "output_type": "stream",
     "text": [
      "[['\"', 'The', 'delivery', 'was', 'prompt', ',', 'and', 'the', 'packaging', 'was', 'secure', '.', 'Everything', 'arrived', 'in', 'perfect', 'condition', '.', '\"'], ['\"', 'The', 'delivery', 'was', 'prompt', ',', 'and', 'the', 'packaging', 'was', 'secure', '.', 'Everything', 'arrived', 'in', 'perfect', 'condition', '.', '\"'], ['\"', 'The', 'delivery', 'was', 'prompt', ',', 'and', 'the', 'packaging', 'was', 'secure', '.', 'Everything', 'arrived', 'in', 'perfect', 'condition', '.', '\"']]\n"
     ]
    }
   ],
   "source": [
    "tokens = [token.text for token in doc]  # Extract tokens from the processed text\n",
    "token_lists.append(tokens)  # Append tokens list to token_lists\n",
    "print(token_lists)"
   ]
  },
  {
   "cell_type": "code",
   "execution_count": 17,
   "metadata": {},
   "outputs": [
    {
     "name": "stdout",
     "output_type": "stream",
     "text": [
      "[['\"', 'delivery', 'prompt', ',', 'packaging', 'secure', '.', 'arrived', 'perfect', 'condition', '.', '\"'], ['\"', 'delivery', 'prompt', ',', 'packaging', 'secure', '.', 'arrived', 'perfect', 'condition', '.', '\"'], ['\"', 'delivery', 'prompt', ',', 'packaging', 'secure', '.', 'arrived', 'perfect', 'condition', '.', '\"']]\n"
     ]
    }
   ],
   "source": [
    "# Stop Word Removal filter\n",
    "filtered_tokens = [token.text for token in doc if not token.is_stop]  # Filter out stop words\n",
    "filtered_token_lists.append(filtered_tokens)  # Append filtered tokens list to filtered_token_lists\n",
    "print(filtered_token_lists)"
   ]
  },
  {
   "cell_type": "code",
   "execution_count": 18,
   "metadata": {},
   "outputs": [
    {
     "name": "stdout",
     "output_type": "stream",
     "text": [
      "[[], []]\n"
     ]
    }
   ],
   "source": [
    "# Named Entity Recognition (NER)\n",
    "ner_entities = [(ent.text, ent.label_) for ent in doc.ents]  # Extract named entities and their labels\n",
    "ner_lists.append(ner_entities)  # Append named entities list to ner_lists\n",
    "print(ner_lists)"
   ]
  },
  {
   "cell_type": "code",
   "execution_count": null,
   "metadata": {},
   "outputs": [],
   "source": []
  }
 ],
 "metadata": {
  "kernelspec": {
   "display_name": "base",
   "language": "python",
   "name": "python3"
  },
  "language_info": {
   "codemirror_mode": {
    "name": "ipython",
    "version": 3
   },
   "file_extension": ".py",
   "mimetype": "text/x-python",
   "name": "python",
   "nbconvert_exporter": "python",
   "pygments_lexer": "ipython3",
   "version": "3.11.5"
  }
 },
 "nbformat": 4,
 "nbformat_minor": 2
}
