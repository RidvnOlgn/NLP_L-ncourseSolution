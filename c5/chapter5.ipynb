{
 "cells": [
  {
   "cell_type": "code",
   "execution_count": 1,
   "metadata": {},
   "outputs": [
    {
     "name": "stderr",
     "output_type": "stream",
     "text": [
      "c:\\Users\\Ridvan\\anaconda3\\envs\\cudaPytorch\\Lib\\site-packages\\tqdm\\auto.py:21: TqdmWarning: IProgress not found. Please update jupyter and ipywidgets. See https://ipywidgets.readthedocs.io/en/stable/user_install.html\n",
      "  from .autonotebook import tqdm as notebook_tqdm\n"
     ]
    }
   ],
   "source": [
    "import torch\n",
    "from transformers import RobertaModel, RobertaTokenizer, AutoModelForSequenceClassification, TrainingArguments, Trainer, DataCollatorWithPadding\n",
    "from peft import LoraConfig, get_peft_model\n",
    "from datasets import load_dataset"
   ]
  },
  {
   "cell_type": "code",
   "execution_count": 2,
   "metadata": {},
   "outputs": [],
   "source": [
    "# Define model names\n",
    "roberta_model_name = 'roberta-base-peft'  # PEFT stands for Pretrained Error-Fix Transformer\n",
    "modified_base = 'roberta-base-modified'  # A modified version of the RoBERTa base model\n",
    "base_model = 'roberta-base'  # The original RoBERTa base model"
   ]
  },
  {
   "cell_type": "code",
   "execution_count": 3,
   "metadata": {},
   "outputs": [],
   "source": [
    "# Load dataset\n",
    "dataset = load_dataset('ag_news')  # Load the AG News dataset"
   ]
  },
  {
   "cell_type": "code",
   "execution_count": 4,
   "metadata": {},
   "outputs": [],
   "source": [
    "# Initialize tokenizer using the base RoBERTa model\n",
    "tokenizer = RobertaTokenizer.from_pretrained(base_model)"
   ]
  },
  {
   "cell_type": "code",
   "execution_count": 5,
   "metadata": {},
   "outputs": [],
   "source": [
    "# Define a preprocessing function\n",
    "def preprocess(examples):\n",
    "    # Tokenize the text data, truncating and padding sequences\n",
    "    tokenized = tokenizer(examples['text'], truncation=True, padding=True)\n",
    "    return tokenized"
   ]
  },
  {
   "cell_type": "code",
   "execution_count": 6,
   "metadata": {},
   "outputs": [],
   "source": [
    "# Apply preprocessing to the entire dataset in batches, removing the 'text' column\n",
    "tokenized_dataset = dataset.map(preprocess, batched=True, remove_columns=[\"text\"])"
   ]
  },
  {
   "cell_type": "code",
   "execution_count": 7,
   "metadata": {},
   "outputs": [],
   "source": [
    "# Split the tokenized dataset into train, evaluation, and test datasets\n",
    "train_dataset = tokenized_dataset['train']  # Training dataset\n",
    "eval_dataset = tokenized_dataset['test'].shard(num_shards=2, index=0)  # Evaluation dataset (1st shard)\n",
    "test_dataset = tokenized_dataset['test'].shard(num_shards=2, index=1)  # Test dataset (2nd shard)"
   ]
  },
  {
   "cell_type": "code",
   "execution_count": 8,
   "metadata": {},
   "outputs": [
    {
     "name": "stdout",
     "output_type": "stream",
     "text": [
      "number of labels: 4\n",
      "the labels: ['World', 'Sports', 'Business', 'Sci/Tech']\n"
     ]
    }
   ],
   "source": [
    "# Extract the number of classess and their names\n",
    "num_labels = dataset['train'].features['label'].num_classes\n",
    "class_names = dataset[\"train\"].features[\"label\"].names\n",
    "print(f\"number of labels: {num_labels}\")\n",
    "print(f\"the labels: {class_names}\")"
   ]
  },
  {
   "cell_type": "code",
   "execution_count": 9,
   "metadata": {},
   "outputs": [],
   "source": [
    "# Create an id2label mapping\n",
    "# We will need this for our classifier.\n",
    "id2label = {i: label for i, label in enumerate(class_names)}\n",
    "\n",
    "data_collator = DataCollatorWithPadding(tokenizer=tokenizer, return_tensors=\"pt\")"
   ]
  },
  {
   "cell_type": "code",
   "execution_count": 17,
   "metadata": {},
   "outputs": [],
   "source": [
    "# use the same Training args for all models\n",
    "\n",
    "# Define training arguments for model training\n",
    "training_args = TrainingArguments(\n",
    "    output_dir='./results',  # Directory to save the model and training results\n",
    "    evaluation_strategy='steps',  # Evaluate on the validation set every 'steps' training steps\n",
    "    learning_rate=5e-5,  # Initial learning rate for the optimizer\n",
    "    num_train_epochs=1,  # Number of times to iterate over the entire training dataset\n",
    "    per_device_train_batch_size=16,  # Batch size for each GPU during training\n",
    ")"
   ]
  },
  {
   "cell_type": "code",
   "execution_count": 18,
   "metadata": {},
   "outputs": [],
   "source": [
    "# Define a function to create a Trainer object for model training\n",
    "def get_trainer(model):\n",
    "    # Create a Trainer object with the specified arguments\n",
    "    return Trainer(\n",
    "        model=model,  # The model to be trained\n",
    "        args=training_args,  # Training arguments for configuring the training process\n",
    "        train_dataset=train_dataset,  # Training dataset\n",
    "        eval_dataset=eval_dataset,  # Evaluation dataset\n",
    "        data_collator=data_collator,  # Data collator for batch processing\n",
    "    )"
   ]
  },
  {
   "cell_type": "code",
   "execution_count": null,
   "metadata": {},
   "outputs": [],
   "source": [
    "# Create a Trainer object for full fine-tuning of the model\n",
    "full_finetuning_trainer = get_trainer(\n",
    "    AutoModelForSequenceClassification.from_pretrained(base_model, id2label=id2label),\n",
    ")\n",
    "# Start training the model using the Trainer object\n",
    "full_finetuning_trainer.train()"
   ]
  },
  {
   "cell_type": "code",
   "execution_count": null,
   "metadata": {},
   "outputs": [],
   "source": [
    "#PEFT Training\n",
    "# Creating a model for sequence classification based on a pretrained model\n",
    "model = AutoModelForSequenceClassification.from_pretrained(base_model, id2label=id2label)\n",
    "\n",
    "# Configuring Lora parameters for PEFT (Proxy Experience Finetuning)\n",
    "peft_config = LoraConfig(task_type=\"SEQ_CLS\", inference_mode=False, r=8, lora_alpha=16, lora_dropout=0.1)\n",
    "\n",
    "# Applying Lora parameters to the model to create the PEFT model\n",
    "peft_model = get_peft_model(model, peft_config)\n",
    "\n",
    "# Printing information about the PEFT model's trainable parameters\n",
    "print('PEFT Model')\n",
    "peft_model.print_trainable_parameters()\n",
    "\n",
    "# Obtaining a trainer object for Lora finetuning\n",
    "peft_lora_finetuning_trainer = get_trainer(peft_model)\n",
    "\n",
    "# Initiating the training process for the PEFT model using Lora finetuning\n",
    "peft_lora_finetuning_trainer.train()"
   ]
  },
  {
   "cell_type": "code",
   "execution_count": null,
   "metadata": {},
   "outputs": [],
   "source": [
    "# Save\n",
    "tokenizer.save_pretrained(modified_base)\n",
    "peft_model.save_pretrained(peft_model_name)"
   ]
  },
  {
   "cell_type": "code",
   "execution_count": null,
   "metadata": {},
   "outputs": [],
   "source": [
    "from peft import AutoPeftModelForSequenceClassification\n",
    "from transformers import AutoTokenizer\n",
    "\n",
    "\n",
    "# LOAD the Saved PEFT model\n",
    "\n",
    "inference_model = AutoPeftModelForSequenceClassification.from_pretrained(peft_model_name, id2label=id2label)\n",
    "tokenizer = AutoTokenizer.from_pretrained(modified_base)\n",
    "\n",
    "def classify(text):\n",
    "    # Tokenize the input text, truncate if needed, pad sequences, and convert to PyTorch tensors\n",
    "    inputs = tokenizer(text, truncation=True, padding=True, return_tensors=\"pt\")\n",
    "    # Pass the tokenized input through the inference model to get predictions\n",
    "    output = inference_model(**inputs)\n",
    "\n",
    "    # Extract the predicted class index from the model output\n",
    "    prediction = output.logits.argmax(dim=-1).item()\n",
    "\n",
    "print(f'\\n Class: {prediction}, Label: {id2label[prediction]}, Text: {text}')\n",
    "  # return id2label[prediction]"
   ]
  },
  {
   "cell_type": "code",
   "execution_count": null,
   "metadata": {},
   "outputs": [],
   "source": [
    "# Import necessary modules\n",
    "from torch.utils.data import DataLoader  # DataLoader for creating data iterators\n",
    "import evaluate  # Import module for computing evaluation metrics\n",
    "from tqdm import tqdm  # tqdm for progress tracking during evaluation\n",
    "\n",
    "# Load the evaluation metric (e.g., accuracy) from the evaluate module\n",
    "metric = evaluate.load('accuracy')\n",
    "\n",
    "# Define a function to evaluate the model on a given dataset\n",
    "def evaluate_model(inference_model, dataset):\n",
    "    # Create a DataLoader for the evaluation dataset with batch size 8 and using data_collator for batch processing\n",
    "    eval_dataloader = DataLoader(dataset.rename_column(\"label\", \"labels\"), batch_size=8, collate_fn=data_collator)\n",
    "    # Determine the device (GPU or CPU) for model inference\n",
    "    device = torch.device(\"cuda\" if torch.cuda.is_available() else \"cpu\")\n",
    "\n",
    "    # Move the inference model to the appropriate device (GPU or CPU)\n",
    "    inference_model.to(device)\n",
    "    # Set the model in evaluation mode (no gradient computation)\n",
    "    inference_model.eval()\n",
    "\n",
    "    # Iterate over batches in the evaluation dataloader\n",
    "    for step, batch in enumerate(tqdm(eval_dataloader)):\n",
    "        # Move the batch to the device (GPU or CPU)\n",
    "        batch.to(device)\n",
    "        # Disable gradient calculation for inference\n",
    "        with torch.no_grad():\n",
    "            # Perform inference using the inference model on the batch\n",
    "            outputs = inference_model(**batch)\n",
    "        # Extract the predicted class indices from the model outputs\n",
    "        predictions = outputs.logits.argmax(dim=-1)\n",
    "        # Assign predictions and reference labels to variables for metric computation\n",
    "        predictions, references = predictions, batch[\"labels\"]\n",
    "        # Add the batch of predictions and references to the evaluation metric\n",
    "        metric.add_batch(\n",
    "            predictions=predictions,\n",
    "            references=references,\n",
    "        )\n",
    "\n",
    "    # Compute the evaluation metric (e.g., accuracy) based on added batches\n",
    "    eval_metric = metric.compute()\n",
    "    # Print the computed evaluation metric\n",
    "    print(eval_metric)"
   ]
  },
  {
   "cell_type": "code",
   "execution_count": null,
   "metadata": {},
   "outputs": [],
   "source": [
    "# Evaluate the non fine-tuned model\n",
    "evaluate_model(AutoModelForSequenceClassification.from_pretrained(base_model, id2label=id2label), test_dataset)"
   ]
  },
  {
   "cell_type": "code",
   "execution_count": null,
   "metadata": {},
   "outputs": [],
   "source": [
    "\n",
    "# Evaluate the PEFT fine-tuned model\n",
    "evaluate_model(inference_model, test_dataset)"
   ]
  },
  {
   "cell_type": "code",
   "execution_count": null,
   "metadata": {},
   "outputs": [],
   "source": [
    "# Evaluate the Fully fine-tuned model\n",
    "evaluate_model(full_finetuning_trainer.model, test_dataset)"
   ]
  }
 ],
 "metadata": {
  "kernelspec": {
   "display_name": "cudaPytorch",
   "language": "python",
   "name": "python3"
  },
  "language_info": {
   "codemirror_mode": {
    "name": "ipython",
    "version": 3
   },
   "file_extension": ".py",
   "mimetype": "text/x-python",
   "name": "python",
   "nbconvert_exporter": "python",
   "pygments_lexer": "ipython3",
   "version": "3.11.5"
  }
 },
 "nbformat": 4,
 "nbformat_minor": 2
}
